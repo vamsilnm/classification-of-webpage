{
 "cells": [
  {
   "cell_type": "code",
   "execution_count": 3,
   "metadata": {
    "collapsed": true
   },
   "outputs": [],
   "source": [
    "import pandas as pd\n",
    "from sklearn.feature_extraction.text import TfidfVectorizer\n",
    "pd.set_option('display.max_colwidth', -1)\n",
    "import numpy as np\n",
    "import re\n",
    "from sklearn.ensemble import RandomForestClassifier\n",
    "from sklearn.model_selection import train_test_split\n",
    "from sklearn import preprocessing\n",
    "from sklearn.linear_model import SGDClassifier\n",
    "from sklearn.linear_model import LogisticRegression\n",
    "from sklearn.svm import LinearSVC\n",
    "from sklearn.naive_bayes import MultinomialNB\n",
    "from sklearn.preprocessing import StandardScaler\n",
    "from sklearn.model_selection import GridSearchCV\n",
    "from sklearn.model_selection import RandomizedSearchCV\n",
    "from sklearn.ensemble import RandomForestClassifier"
   ]
  },
  {
   "cell_type": "code",
   "execution_count": 2,
   "metadata": {
    "collapsed": true
   },
   "outputs": [],
   "source": [
    "train_data = pd.read_csv('./data_set/train_data.csv')\n",
    "test_data = pd.read_csv('./data_set/test_data.csv')"
   ]
  },
  {
   "cell_type": "code",
   "execution_count": 5,
   "metadata": {
    "collapsed": true
   },
   "outputs": [],
   "source": [
    "train_data['word_count'] = train_data['Text'].apply(lambda x: len(x.split()))\n",
    "test_data['word_count'] = test_data['Text'].apply(lambda x: len(x.split()))"
   ]
  },
  {
   "cell_type": "code",
   "execution_count": 6,
   "metadata": {},
   "outputs": [
    {
     "data": {
      "text/plain": [
       "Index(['Webpage_id', 'Text', 'Domain', 'Url', 'word_count'], dtype='object')"
      ]
     },
     "execution_count": 6,
     "metadata": {},
     "output_type": "execute_result"
    }
   ],
   "source": [
    "test_data.columns"
   ]
  },
  {
   "cell_type": "code",
   "execution_count": 7,
   "metadata": {},
   "outputs": [
    {
     "data": {
      "text/plain": [
       "Index(['Webpage_id', 'Text', 'Domain', 'Url', 'Tag', 'word_count'], dtype='object')"
      ]
     },
     "execution_count": 7,
     "metadata": {},
     "output_type": "execute_result"
    }
   ],
   "source": [
    "train_data.columns"
   ]
  },
  {
   "cell_type": "code",
   "execution_count": 31,
   "metadata": {
    "collapsed": true
   },
   "outputs": [],
   "source": [
    "train_word_count = np.array(train_data.word_count.tolist())\n",
    "test_word_count = np.array(test_data.word_count.tolist())\n",
    "train_word_count= np.reshape(train_word_count, (train_word_count.shape[0], 1))\n",
    "test_word_count= np.reshape(test_word_count, (test_word_count.shape[0], 1))"
   ]
  },
  {
   "cell_type": "code",
   "execution_count": 2,
   "metadata": {
    "collapsed": true
   },
   "outputs": [],
   "source": [
    "scaler = StandardScaler()"
   ]
  },
  {
   "cell_type": "code",
   "execution_count": null,
   "metadata": {
    "collapsed": true
   },
   "outputs": [],
   "source": [
    "train_word_count_normalised = scaler.fit_transform(train_word_count)\n",
    "test_word_count_normalised = scaler.transform(test_word_count)"
   ]
  },
  {
   "cell_type": "code",
   "execution_count": 8,
   "metadata": {
    "collapsed": true
   },
   "outputs": [],
   "source": [
    "vectorizer = TfidfVectorizer(analyzer='word',\n",
    "                                    norm='l2',max_features=5000,ngram_range=(1,3),\n",
    "                                    encoding='utf-8',stop_words='english')"
   ]
  },
  {
   "cell_type": "code",
   "execution_count": 10,
   "metadata": {
    "collapsed": true
   },
   "outputs": [],
   "source": [
    "X_vectors = vectorizer.fit_transform(train_data['Text']).toarray()\n",
    "y = train_data['Tag']\n",
    "X_final = np.concatenate((X_vectors, train_word_count_normalised), axis=1)"
   ]
  },
  {
   "cell_type": "code",
   "execution_count": 40,
   "metadata": {
    "collapsed": true
   },
   "outputs": [],
   "source": [
    "X_test_final = vectorizer.transform(test_data['Text']).toarray()\n",
    "X_test_final_vectors = np.concatenate((X_test_final, test_word_count_normalised), axis=1)"
   ]
  },
  {
   "cell_type": "code",
   "execution_count": null,
   "metadata": {
    "collapsed": true
   },
   "outputs": [],
   "source": [
    "#For SGD\n",
    "clf_SGD_final = SGDClassifier(n_iter=10,random_state=2)\n",
    "clf_SGD_final.fit(X_final,y)\n",
    "tags_precited = clf_SGD_final.predict(X_test_final_vectors)\n",
    "predictions = pd.DataFrame({'Webpage_id':test_data['Webpage_id'],\n",
    "                           'Tag':tags_precited})\n",
    "predictions.to_csv('submission_sgd.csv',sep=',',index=None,columns=['Webpage_id','Tag'])"
   ]
  },
  {
   "cell_type": "code",
   "execution_count": null,
   "metadata": {
    "collapsed": true
   },
   "outputs": [],
   "source": [
    "# X_final = vectorizer.fit_transform(train_data['Text']).toarray()\n",
    "# y = train_data['Tag']"
   ]
  },
  {
   "cell_type": "code",
   "execution_count": null,
   "metadata": {
    "collapsed": true
   },
   "outputs": [],
   "source": [
    "# X_test_final = vectorizer.transform(test_data['Text']).toarray()\n"
   ]
  },
  {
   "cell_type": "code",
   "execution_count": 53,
   "metadata": {
    "collapsed": true
   },
   "outputs": [],
   "source": [
    "#For LR\n",
    "clf_lr = LogisticRegression(random_state=0)\n",
    "clf_lr.fit(X_final,y)\n",
    "\n",
    "lr_predictions = clf_lr.predict(X_test_final_vectors)\n",
    "predictions = pd.DataFrame({'Webpage_id':test_data['Webpage_id'],\n",
    "                           'Tag':lr_predictions})\n",
    "predictions.to_csv('submission_lr.csv',sep=',',index=None,columns=['Webpage_id','Tag'])"
   ]
  },
  {
   "cell_type": "code",
   "execution_count": null,
   "metadata": {
    "collapsed": true
   },
   "outputs": [],
   "source": [
    "#For RF\n",
    "clf_rf = RandomForestClassifier(n_estimators=1000)\n",
    "clf_rf.fit(X_final,y)\n",
    "\n",
    "rf_predictions = clf_rf.predict(X_test_final_vectors)\n",
    "predictions = pd.DataFrame({'Webpage_id':test_data['Webpage_id'],\n",
    "                           'Tag':rf_predictions})\n",
    "predictions.to_csv('submission_rf.csv',sep=',',index=None,columns=['Webpage_id','Tag'])"
   ]
  },
  {
   "cell_type": "code",
   "execution_count": null,
   "metadata": {
    "collapsed": true
   },
   "outputs": [],
   "source": [
    "from xgboost.sklearn import XGBClassifier\n",
    "xgb1 = XGBClassifier(\n",
    " learning_rate =0.1,\n",
    " n_estimators=1000,\n",
    " max_depth=5,\n",
    " min_child_weight=1,\n",
    " gamma=0,\n",
    " subsample=0.8,\n",
    " colsample_bytree=0.8,\n",
    " objective= 'multi:softmax',\n",
    " nthread=4,\n",
    " scale_pos_weight=1,\n",
    " seed=27)\n",
    "\n",
    "xgb1.fit(X_final,y)\n",
    "\n",
    "xgb_predictions = xgb1.predict(X_test_final_vectors)\n",
    "predictions = pd.DataFrame({'Webpage_id':test_data['Webpage_id'],\n",
    "                           'Tag':xgb_predictions})\n",
    "predictions.to_csv('submission_xgb.csv',sep=',',index=None,columns=['Webpage_id','Tag'])\n"
   ]
  },
  {
   "cell_type": "code",
   "execution_count": 54,
   "metadata": {},
   "outputs": [
    {
     "name": "stderr",
     "output_type": "stream",
     "text": [
      "C:\\Users\\bharti\\Anaconda3\\lib\\site-packages\\sklearn\\linear_model\\stochastic_gradient.py:117: DeprecationWarning: n_iter parameter is deprecated in 0.19 and will be removed in 0.21. Use max_iter and tol instead.\n",
      "  DeprecationWarning)\n"
     ]
    },
    {
     "data": {
      "text/plain": [
       "SGDClassifier(alpha=0.0001, average=False, class_weight=None, epsilon=0.1,\n",
       "       eta0=0.0, fit_intercept=True, l1_ratio=0.15,\n",
       "       learning_rate='optimal', loss='hinge', max_iter=None, n_iter=10,\n",
       "       n_jobs=1, penalty='l2', power_t=0.5, random_state=2, shuffle=True,\n",
       "       tol=None, verbose=0, warm_start=False)"
      ]
     },
     "execution_count": 54,
     "metadata": {},
     "output_type": "execute_result"
    }
   ],
   "source": [
    "clf_SGD_final = SGDClassifier(n_iter=10,random_state=2)\n",
    "clf_SGD_final.fit(X_final,y)"
   ]
  },
  {
   "cell_type": "code",
   "execution_count": 55,
   "metadata": {
    "collapsed": true
   },
   "outputs": [],
   "source": [
    "tags_precited = clf_SGD_final.predict(X_test_final_vectors)\n",
    "predictions = pd.DataFrame({'Webpage_id':test_data['Webpage_id'],\n",
    "                           'Tag':tags_precited})\n",
    "predictions.to_csv('submission_text_1.csv',sep=',',index=None,columns=['Webpage_id','Tag'])"
   ]
  },
  {
   "cell_type": "code",
   "execution_count": 14,
   "metadata": {},
   "outputs": [
    {
     "name": "stderr",
     "output_type": "stream",
     "text": [
      "C:\\Users\\bharti\\Anaconda3\\lib\\site-packages\\sklearn\\linear_model\\stochastic_gradient.py:117: DeprecationWarning: n_iter parameter is deprecated in 0.19 and will be removed in 0.21. Use max_iter and tol instead.\n",
      "  DeprecationWarning)\n"
     ]
    },
    {
     "data": {
      "text/plain": [
       "SGDClassifier(alpha=0.0001, average=False, class_weight=None, epsilon=0.1,\n",
       "       eta0=0.0, fit_intercept=True, l1_ratio=0.15,\n",
       "       learning_rate='optimal', loss='hinge', max_iter=None, n_iter=10,\n",
       "       n_jobs=1, penalty='l2', power_t=0.5, random_state=2, shuffle=True,\n",
       "       tol=None, verbose=0, warm_start=False)"
      ]
     },
     "execution_count": 14,
     "metadata": {},
     "output_type": "execute_result"
    }
   ],
   "source": [
    "clf_SGD_final = SGDClassifier(n_iter=10,random_state=2)\n",
    "clf_SGD_final.fit(X_final,y)"
   ]
  },
  {
   "cell_type": "code",
   "execution_count": 15,
   "metadata": {
    "collapsed": true
   },
   "outputs": [],
   "source": [
    "tags_precited = clf_SGD_final.predict(X_test_final)\n",
    "predictions = pd.DataFrame({'Webpage_id':test_data['Webpage_id'],\n",
    "                           'Tag':tags_precited})\n",
    "predictions.to_csv('submission_text_1.csv',sep=',',index=None,columns=['Webpage_id','Tag'])"
   ]
  },
  {
   "cell_type": "code",
   "execution_count": null,
   "metadata": {
    "collapsed": true
   },
   "outputs": [],
   "source": []
  }
 ],
 "metadata": {
  "kernelspec": {
   "display_name": "Python 3",
   "language": "python",
   "name": "python3"
  },
  "language_info": {
   "codemirror_mode": {
    "name": "ipython",
    "version": 3
   },
   "file_extension": ".py",
   "mimetype": "text/x-python",
   "name": "python",
   "nbconvert_exporter": "python",
   "pygments_lexer": "ipython3",
   "version": "3.6.3"
  }
 },
 "nbformat": 4,
 "nbformat_minor": 2
}
